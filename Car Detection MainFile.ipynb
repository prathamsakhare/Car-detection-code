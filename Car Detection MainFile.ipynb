{
 "cells": [
  {
   "cell_type": "code",
   "execution_count": 7,
   "id": "02af8fc8",
   "metadata": {},
   "outputs": [],
   "source": [
    "import cv2 \n",
    "from vehicle_detector import VehicleDetector"
   ]
  },
  {
   "cell_type": "code",
   "execution_count": 8,
   "id": "e027a2e8",
   "metadata": {},
   "outputs": [
    {
     "name": "stdout",
     "output_type": "stream",
     "text": [
      "39\n"
     ]
    },
    {
     "data": {
      "text/plain": [
       "-1"
      ]
     },
     "execution_count": 8,
     "metadata": {},
     "output_type": "execute_result"
    }
   ],
   "source": [
    "vd = VehicleDetector()\n",
    "\n",
    "img = cv2.imread(\"./images/image2.jpg\")\n",
    "\n",
    "vehicle_boxes = vd.detect_vehicles(img)\n",
    "vehicle_count = len(vehicle_boxes)\n",
    "\n",
    "print(vehicle_count)\n",
    "\n",
    "for box in vehicle_boxes:\n",
    "    x,y,w,h = box\n",
    "    cv2.rectangle(img, (x,y), (x+w, y+h), (25, 0, 180, 3))\n",
    "    \n",
    "cv2.imshow(\"Cars\", img)\n",
    "cv2.waitKey(0)\n",
    "\n"
   ]
  }
 ],
 "metadata": {
  "kernelspec": {
   "display_name": "Python 3 (ipykernel)",
   "language": "python",
   "name": "python3"
  },
  "language_info": {
   "codemirror_mode": {
    "name": "ipython",
    "version": 3
   },
   "file_extension": ".py",
   "mimetype": "text/x-python",
   "name": "python",
   "nbconvert_exporter": "python",
   "pygments_lexer": "ipython3",
   "version": "3.9.13"
  }
 },
 "nbformat": 4,
 "nbformat_minor": 5
}
