{
 "cells": [
  {
   "cell_type": "code",
   "execution_count": 7,
   "id": "e65e29ba",
   "metadata": {},
   "outputs": [],
   "source": [
    "import cv2\n",
    "import glob\n",
    "from vehicle_detector import VehicleDetector"
   ]
  },
  {
   "cell_type": "code",
   "execution_count": 9,
   "id": "f3542d48",
   "metadata": {},
   "outputs": [
    {
     "name": "stdout",
     "output_type": "stream",
     "text": [
      "image path :  images\\image1.jpg\n",
      "Image Count :  15\n",
      "image path :  images\\image2.jpg\n",
      "Image Count :  39\n",
      "image path :  images\\image3.jpg\n",
      "Image Count :  6\n",
      "Vehicle Count Each Frame : [{'img path': 'images\\\\image1.jpg', 'vehicle Count': 15}, {'img path': 'images\\\\image2.jpg', 'vehicle Count': 39}, {'img path': 'images\\\\image3.jpg', 'vehicle Count': 6}]\n"
     ]
    }
   ],
   "source": [
    "# Load Veichle Detector\n",
    "vd = VehicleDetector()\n",
    "\n",
    "# Load images from a folder\n",
    "images_folder = glob.glob(\"images/*.jpg\")\n",
    "\n",
    "vehicles_folder_count = 0\n",
    "count_array = []\n",
    "\n",
    "# Loop through all the images\n",
    "for img_path in images_folder:\n",
    "   \n",
    "    img = cv2.imread(img_path)\n",
    "\n",
    "    vehicle_boxes = vd.detect_vehicles(img)\n",
    "    vehicle_count = len(vehicle_boxes)\n",
    "    \n",
    "    count_array.append({'img path' : img_path, 'vehicle Count': vehicle_count})\n",
    "    print('image path : ', img_path)\n",
    "    print(\"Image Count : \", vehicle_count)\n",
    "    \n",
    "    for box in vehicle_boxes:\n",
    "        x, y, w, h = box\n",
    "\n",
    "        cv2.rectangle(img, (x, y), (x + w, y + h), (25, 0, 180), 3)\n",
    "\n",
    "        cv2.putText(img, \"Vehicles: \" + str(vehicle_count), (20, 50), 0, 2, (100, 200, 0), 3)\n",
    "\n",
    "        cv2.imshow(\"Cars\", img)\n",
    "        cv2.waitKey(1)\n",
    "\n",
    "\n",
    "print('Vehicle Count Each Frame :', count_array )"
   ]
  }
 ],
 "metadata": {
  "kernelspec": {
   "display_name": "Python 3 (ipykernel)",
   "language": "python",
   "name": "python3"
  },
  "language_info": {
   "codemirror_mode": {
    "name": "ipython",
    "version": 3
   },
   "file_extension": ".py",
   "mimetype": "text/x-python",
   "name": "python",
   "nbconvert_exporter": "python",
   "pygments_lexer": "ipython3",
   "version": "3.9.13"
  }
 },
 "nbformat": 4,
 "nbformat_minor": 5
}
